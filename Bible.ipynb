{
  "nbformat": 4,
  "nbformat_minor": 0,
  "metadata": {
    "colab": {
      "provenance": [],
      "authorship_tag": "ABX9TyPHulEEXqmf5XPIugJDOdOy",
      "include_colab_link": true
    },
    "kernelspec": {
      "name": "python3",
      "display_name": "Python 3"
    },
    "language_info": {
      "name": "python"
    }
  },
  "cells": [
    {
      "cell_type": "markdown",
      "metadata": {
        "id": "view-in-github",
        "colab_type": "text"
      },
      "source": [
        "<a href=\"https://colab.research.google.com/github/ws19999/Python/blob/main/Bible.ipynb\" target=\"_parent\"><img src=\"https://colab.research.google.com/assets/colab-badge.svg\" alt=\"Open In Colab\"/></a>"
      ]
    },
    {
      "cell_type": "markdown",
      "source": [
        "주요 라이브러리들"
      ],
      "metadata": {
        "id": "XXKpq5X3c_Dz"
      }
    },
    {
      "cell_type": "code",
      "source": [
        "import seaborn as sns #iris,titanic\n",
        "import pandas as pd\n",
        "import numpy as np\n",
        "\n",
        "from sklearn.datasets import load_wine, make_regression, load_breast_cancer,load_iris,load_diabetes,make_classification,make_regression #데이터셋\n",
        "from sklearn.model_selection import train_test_split\n",
        "from sklearn.tree import DecisionTreeClassifier, DecisionTreeRegressor,plot_tree #트리\n",
        "from sklearn.svm import SVC, SVR\n",
        "from sklearn.ensemble import RandomForestClassifier,BaggingClassifier,BaggingRegressor, AdaBoostClassifier,RandomForestRegressor\n",
        "#앙상블\n",
        "from sklearn.neighbors import KNeighborsClassifier #KNN\n",
        "from sklearn.cluster import KMeans\n",
        "\n",
        "from sklearn.preprocessing import StandardScaler,MinMaxScaler,MaxAbsScaler,RobustScaler,Normalizer, LabelEncoder #스케일러\n",
        "from sklearn.linear_model import LogisticRegression, LinearRegression #선형 모델 - 로지스틱 회귀, 선형 회귀\n",
        "from sklearn.metrics import accuracy_score, confusion_matrix, classification_report ,mean_squared_error, r2_score\n",
        "import matplotlib.pyplot as plt\n",
        "import xgboost as xgb\n"
      ],
      "metadata": {
        "id": "-EU4ZSWXfpBc"
      },
      "execution_count": null,
      "outputs": []
    },
    {
      "cell_type": "markdown",
      "source": [
        "\n",
        "1. 데이터 가져오기\n"
      ],
      "metadata": {
        "id": "SYffXuS6ehMr"
      }
    },
    {
      "cell_type": "markdown",
      "source": [
        "구글 드라이브 마운트"
      ],
      "metadata": {
        "id": "ckWA3Ksre_4Q"
      }
    },
    {
      "cell_type": "code",
      "execution_count": null,
      "metadata": {
        "colab": {
          "base_uri": "https://localhost:8080/"
        },
        "id": "ppZLPA-jc_1W",
        "outputId": "4be4ec4f-e45b-41e8-9f4c-dd670820e183"
      },
      "outputs": [
        {
          "output_type": "stream",
          "name": "stdout",
          "text": [
            "Mounted at /content/drive\n"
          ]
        }
      ],
      "source": [
        "from google.colab import drive\n",
        "drive.mount('/content/drive')"
      ]
    },
    {
      "cell_type": "markdown",
      "source": [
        "크롤링"
      ],
      "metadata": {
        "id": "Hgjp2mCxdE_I"
      }
    },
    {
      "cell_type": "code",
      "source": [],
      "metadata": {
        "id": "BlzTp_godIn_"
      },
      "execution_count": null,
      "outputs": []
    },
    {
      "cell_type": "code",
      "source": [
        "df = pd.read_csv('apartment.csv', encoding='cp949')"
      ],
      "metadata": {
        "id": "kNIMkor9NB42"
      },
      "execution_count": null,
      "outputs": []
    },
    {
      "cell_type": "code",
      "source": [
        "#텍스트 파일 불러오기\n",
        "f=open('file.txt', 'rt', encoding='UTF8')\n",
        "for line in f:\n",
        " print(line, end=\"\")"
      ],
      "metadata": {
        "id": "8_iEWs3NUq51",
        "colab": {
          "base_uri": "https://localhost:8080/",
          "height": 200
        },
        "outputId": "3aa0271b-cf5f-49b6-bad7-bb89ab1c2cdf"
      },
      "execution_count": null,
      "outputs": [
        {
          "output_type": "error",
          "ename": "FileNotFoundError",
          "evalue": "[Errno 2] No such file or directory: 'file.txt'",
          "traceback": [
            "\u001b[0;31m---------------------------------------------------------------------------\u001b[0m",
            "\u001b[0;31mFileNotFoundError\u001b[0m                         Traceback (most recent call last)",
            "\u001b[0;32m<ipython-input-3-5ab03a6589c7>\u001b[0m in \u001b[0;36m<cell line: 2>\u001b[0;34m()\u001b[0m\n\u001b[1;32m      1\u001b[0m \u001b[0;31m#텍스트 파일 불러오기\u001b[0m\u001b[0;34m\u001b[0m\u001b[0;34m\u001b[0m\u001b[0m\n\u001b[0;32m----> 2\u001b[0;31m \u001b[0mf\u001b[0m\u001b[0;34m=\u001b[0m\u001b[0mopen\u001b[0m\u001b[0;34m(\u001b[0m\u001b[0;34m'file.txt'\u001b[0m\u001b[0;34m,\u001b[0m \u001b[0;34m'rt'\u001b[0m\u001b[0;34m,\u001b[0m \u001b[0mencoding\u001b[0m\u001b[0;34m=\u001b[0m\u001b[0;34m'UTF8'\u001b[0m\u001b[0;34m)\u001b[0m\u001b[0;34m\u001b[0m\u001b[0;34m\u001b[0m\u001b[0m\n\u001b[0m\u001b[1;32m      3\u001b[0m \u001b[0;32mfor\u001b[0m \u001b[0mline\u001b[0m \u001b[0;32min\u001b[0m \u001b[0mf\u001b[0m\u001b[0;34m:\u001b[0m\u001b[0;34m\u001b[0m\u001b[0;34m\u001b[0m\u001b[0m\n\u001b[1;32m      4\u001b[0m  \u001b[0mprint\u001b[0m\u001b[0;34m(\u001b[0m\u001b[0mline\u001b[0m\u001b[0;34m,\u001b[0m \u001b[0mend\u001b[0m\u001b[0;34m=\u001b[0m\u001b[0;34m\"\"\u001b[0m\u001b[0;34m)\u001b[0m\u001b[0;34m\u001b[0m\u001b[0;34m\u001b[0m\u001b[0m\n",
            "\u001b[0;31mFileNotFoundError\u001b[0m: [Errno 2] No such file or directory: 'file.txt'"
          ]
        }
      ]
    },
    {
      "cell_type": "code",
      "execution_count": null,
      "metadata": {
        "id": "lNdH8W9e8laV"
      },
      "outputs": [],
      "source": [
        "with open(\"/content/1.01.house.price.csv\",'r', encoding='UTF8', newline='') as filereader:\n",
        "  for row in filereader:\n",
        "    print(\"{}\".format(row.strip( )))"
      ]
    },
    {
      "cell_type": "code",
      "source": [
        "cancer = load_breast_cancer()\n",
        "# 판다스로 바꾸기\n",
        "cancer_df = pd.DataFrame(data=cancer.data, columns=cancer.feature_names)\n",
        "cancer_df['target'] = cancer.target\n",
        "\n",
        "diabetes_data = load_diabetes()\n",
        "# 데이터셋을 DataFrame으로 변환\n",
        "df_diabetes = pd.DataFrame(data=diabetes_data.data, columns=diabetes_data.feature_names)\n",
        "df_diabetes['target'] = diabetes_data.target\n",
        "data = sns.load_dataset('titanic')"
      ],
      "metadata": {
        "id": "jiyOV1degNav"
      },
      "execution_count": null,
      "outputs": []
    },
    {
      "cell_type": "code",
      "source": [
        "#iris, wine, diabetes 등\n",
        "\n",
        "iris = load_iris()\n",
        "X = iris.data\n",
        "y = iris.target"
      ],
      "metadata": {
        "id": "mxPj7UpAY4C1"
      },
      "execution_count": null,
      "outputs": []
    },
    {
      "cell_type": "markdown",
      "source": [
        "데이터셋 분할 전: 전처리 / 결측치 및 이상치 처리\n",
        "데이터셋 분할 후: 스케일링"
      ],
      "metadata": {
        "id": "kX-Cz0vtE_FN"
      }
    },
    {
      "cell_type": "markdown",
      "source": [
        "데이터 개요 확인"
      ],
      "metadata": {
        "id": "WdBsszY5PjNA"
      }
    },
    {
      "cell_type": "code",
      "source": [
        "titanic_df.info( )\n",
        "data.describe() # 숫자형만 볼 수 있음.\n",
        "data.head()\n",
        "titanic_df1['title'].unique( ) #어떤 값들이 있는지"
      ],
      "metadata": {
        "id": "6oGpng1lPkvO"
      },
      "execution_count": null,
      "outputs": []
    },
    {
      "cell_type": "code",
      "source": [
        "#넘파이 개요\n",
        "array.shape\n",
        "array.dtype\n",
        "array.size"
      ],
      "metadata": {
        "id": "9lZ-YFhBQc6j"
      },
      "execution_count": null,
      "outputs": []
    },
    {
      "cell_type": "markdown",
      "source": [
        "1. 결측치 시각화"
      ],
      "metadata": {
        "id": "_Tsrsm4yLwMU"
      }
    },
    {
      "cell_type": "code",
      "source": [
        "#결측치 시각화\n",
        "import seaborn as sns\n",
        "sns.heatmap(titanic_df.isna()) # 흰색이 결측치\n",
        "plt.figure(figsize=(12, 7))\n",
        "sns.heatmap(df.isnull(), cbar=False, cmap='viridis')\n",
        "\n",
        "plt.title('Data Missing Value Heatmap')\n",
        "\n",
        "# 플롯팅\n",
        "plt.show()"
      ],
      "metadata": {
        "id": "LQ4hENgWLspi"
      },
      "execution_count": null,
      "outputs": []
    },
    {
      "cell_type": "markdown",
      "source": [
        "결측치 위치 확인"
      ],
      "metadata": {
        "id": "Chj_p2NqNZB6"
      }
    },
    {
      "cell_type": "code",
      "source": [
        "titanic_df['age'][titanic_df['age'].isna( )] #결측치를 NaN으로 표시\n",
        "titanic_df['age'].isnull( ) # True / False로 표시 - True가 결측\n",
        "titanic_df['age'][titanic_df['age'].isnull( )] # age중 결측치만 NaN으로 표시.\n",
        "titanic_df['age'][titanic_df['age'].isnull( )].isnull( ).sum( ) #NaN만 True로 하고 갯수 합\n",
        "titanic_df.loc[titanic_df['age'].notnull( ),['age', 'name']] # age가 0이 아닌곳만 위치 찍어줌.\n",
        "titanic_df.loc[titanic_df['age'].isnull( ),['age', 'name']] #NaN인곳 위치\n"
      ],
      "metadata": {
        "id": "Wy33QSUiNIrI"
      },
      "execution_count": null,
      "outputs": []
    },
    {
      "cell_type": "markdown",
      "source": [
        "결측치 처리"
      ],
      "metadata": {
        "id": "ztQkbyNSNbbS"
      }
    },
    {
      "cell_type": "code",
      "source": [
        "titanic_df['cabin']=titanic_df['cabin'].fillna('LA') #NaN인곳 'LA'로\n",
        "#결측치를 평균으로 채워 넣음.\n",
        "data['Age'].fillna(data['Age'].mean(), inplace=True) #mode() : 최빈값 median(): 중앙"
      ],
      "metadata": {
        "id": "V1kf9LRSNgiP"
      },
      "execution_count": null,
      "outputs": []
    },
    {
      "cell_type": "markdown",
      "source": [
        "결측치가 많지 않을때 제거"
      ],
      "metadata": {
        "id": "mx6bs0WFPeNX"
      }
    },
    {
      "cell_type": "code",
      "source": [
        "X_train = X_train.dropna(axis=1) #결측치 있는 행 전부 제거\n",
        "\n",
        "titanic_df['cabin']=titanic_df['cabin'].apply(lambda x : x[0]) #첫글자만으로 바꾸기\n",
        "\n",
        "titanic_df.dropna(axis=0, inplace=True) # 결측치가 있는 행 제거\n",
        "\n",
        "titanic_df.dropna(subset=['age'], axis=0, inplace=True) #age중 결측치 있는 행 제거\n",
        "\n",
        "titanic_df.dropna(axis=1, inplace=True) #결측치가 있는 열 제거\n",
        "\n",
        "#titanic_df1=titanic_df1.drop('name', axis=1) #특정 열 제거 아래 행 사용\n",
        "\n",
        "titanic_df1.drop('name', axis=1, inplace=True)\n"
      ],
      "metadata": {
        "id": "tK7rYkFekdM8"
      },
      "execution_count": null,
      "outputs": []
    },
    {
      "cell_type": "code",
      "source": [
        "titanic_df1['sibpar']=titanic_df1['sibsp']+titanic_df1['parch']"
      ],
      "metadata": {
        "id": "zgDtDb0UpN2W"
      },
      "execution_count": null,
      "outputs": []
    },
    {
      "cell_type": "markdown",
      "source": [
        "## 데이터 시각화\n",
        "1. 훈련,테스트 분류하기 전 시각화: 데이터 탐색\n",
        "이상치 탐지\n",
        "특성 이해\n",
        "결측치 확인\n",
        "2. 분류 후 시각화: 모델 성능 평가: 과적합 등. 오류 분석: 오류의 패턴을 찾고 모델을 개선할 방향\n",
        "특성 중요도: 결정 기준 이해"
      ],
      "metadata": {
        "id": "kGKmeEh5hpU8"
      }
    },
    {
      "cell_type": "markdown",
      "source": [
        "주 시각화 유형\n",
        "히스토그램: 데이터의 분포를 보여줍니다.\n",
        "산점도(Scatter plot): 두 변수 간의 관계를 시각화합니다.\n",
        "선 그래프(Line chart): 시간에 따른 데이터의 변화를 추적합니다.\n",
        "막대 그래프(Bar chart): 범주별 변수의 크기를 비교합니다.\n",
        "박스 플롯(Box plot): 분포의 사분위수 정보와 이상치를 시각화합니다.\n",
        "히트맵(Heatmap): 변수 간의 상관관계나 2차원 데이터의 밀도를 색상으로 표현합니다.\n",
        "파이 차트(Pie chart): 전체에서 각 부분이 차지하는 비율을 보여줍니다. (단, 사용 시 주의가 필요)\n",
        "트리맵(Treemap): 계층적 데이터의 구조와 비율을 사각형으로 시각화합니다."
      ],
      "metadata": {
        "id": "3Pys4DeYiawo"
      }
    },
    {
      "cell_type": "code",
      "source": [
        "# 예시 - 타이타닉 생존 - 바 플롯\n",
        "%matplotlib inline\n",
        "from matplotlib import pyplot as plt\n",
        "data=titanic_df\n",
        "plt.figure(figsize=[14, 4])\n",
        "plt.subplot(131)\n",
        "sns.barplot(x='pclass', y='survived', data=titanic_df)\n",
        "plt.subplot(132)\n",
        "sns.barplot(x='age_cat',y='survived', data=titanic_df)\n",
        "plt.subplot(133)\n",
        "sns.barplot(x='sex', y='survived', data=titanic_df)\n",
        "plt.subplots_adjust(top=1, bottom=0.1, left=0.10, right=1, hspace=0.5, wspace=0.5)\n",
        "plt.show( )"
      ],
      "metadata": {
        "id": "jiSP2tS5UvL_"
      },
      "execution_count": null,
      "outputs": []
    },
    {
      "cell_type": "code",
      "source": [
        "f, ax=plt.subplots(1, 2, figsize=(12, 6))\n",
        "boat_survivors['survived'].value_counts( ).plot.pie(explode=[0,0.1], autopct='%1.2f%%',\n",
        "ax=ax[0])\n",
        "ax[0].set_title('Survived')\n",
        "ax[0].set_ylabel('')\n",
        "sns.countplot(x='survived', data=boat_survivors, ax=ax[1])\n",
        "ax[1].set_title('Survived')\n",
        "plt.show( )"
      ],
      "metadata": {
        "id": "wpovRawlXS1W"
      },
      "execution_count": null,
      "outputs": []
    },
    {
      "cell_type": "code",
      "source": [
        "pclass1=train_df[train_df['pclass']==1]['embarked'].value_counts( )\n",
        "pclass2=train_df[train_df['pclass']==2]['embarked'].value_counts( )\n",
        "pclass3=train_df[train_df['pclass']==3]['embarked'].value_counts( )\n",
        "df=pd.DataFrame([pclass1, pclass2, pclass3])\n",
        "df.index=['1st class', '2nd class', '3rd class']\n",
        "df.plot(kind='bar', stacked=True, figsize=(10, 5))"
      ],
      "metadata": {
        "id": "XD9wcr1ictlP"
      },
      "execution_count": null,
      "outputs": []
    },
    {
      "cell_type": "code",
      "source": [
        "#기본 선형 차트\n",
        "from matplotlib import pyplot as plt\n",
        "years=[1950, 1960, 1970, 1980, 1990, 2000, 2010, 2020]\n",
        "gdp=[300, 543, 1075, 2862, 5979, 10289, 14958, 18320]\n",
        "plt.plot(years, gdp, color='green', marker='o', linestyle='solid')\n",
        "plt.title('GDP')\n",
        "plt.ylabel('$')\n",
        "plt.show()\n",
        "plt.savefig('viz_gdp.png')"
      ],
      "metadata": {
        "id": "wTGiYqRJnZwU"
      },
      "execution_count": null,
      "outputs": []
    },
    {
      "cell_type": "code",
      "source": [
        "#계열별 차트\n",
        "dataset=[[25, 100], [52, 256], [38, 152], [32, 140], [25, 150], [45, 183], [40, 175], [55, 203],\n",
        "[28, 152], [42, 198]]\n",
        "actual=[j[1] for j in dataset]\n",
        "predicted=[115, 242, 176, 148, 115, 209, 185, 256, 129, 195]\n",
        "error=[(x - y) for x, y in zip(actual, predicted)]\n",
        "xs=[i for i, _ in enumerate(error)]\n",
        "plt.plot(xs, actual, 'g-', label='x') # 녹색 실선\n",
        "plt.plot(xs, predicted, 'r-.', label='y') # 빨간색 점선\n",
        "plt.plot(xs, error, 'b', label='error') # 파란색 점선\n",
        "plt.legend(loc=9) # 범례 표시: loc 숫자로 위치 설정\n",
        "plt.xlabel('mode')\n",
        "plt.title('actual vs predicted')\n",
        "plt.show()"
      ],
      "metadata": {
        "id": "aMX3fxaYnsP8"
      },
      "execution_count": null,
      "outputs": []
    },
    {
      "cell_type": "code",
      "source": [
        "#막대형 그래프\n",
        "plt.bar(movies, score, color='red', width=0.3)\n",
        "plt.ylabel('score')\n",
        "plt.title('Movies')\n",
        "plt.xticks([i + 0.1 for i, _ in enumerate(movies)], movies)\n",
        "plt.show()"
      ],
      "metadata": {
        "id": "0jQLI1ZGoRKi"
      },
      "execution_count": null,
      "outputs": []
    },
    {
      "cell_type": "code",
      "source": [
        "from collections import Counter\n",
        "grades=[83, 95, 91, 87, 70, 0, 85, 82, 100, 67, 73, 77, 0]\n",
        "histogram=Counter(min(grade // 10 * 10, 90) for grade in grades)\n",
        "plt.bar([x+5 for x in histogram.keys()], # 오른쪽으로 5만큼 이동해서 그리기 시작\n",
        "histogram.values(),\n",
        "10,\n",
        "edgecolor=(0, 0, 0))\n",
        "plt.axis([-5, 105, 0, 5]) # x축 범위와 y축 범위 지정\n",
        "plt.xticks([10 * i for i in range(11)]) # x축 라벨 표시\n",
        "plt.xlabel('Decile')\n",
        "plt.ylabel('# of Students')\n",
        "plt.title('Distribution of Exam 1 Grades')\n",
        "plt.savefig('viz_grades.png') # 그림 파일 저장"
      ],
      "metadata": {
        "id": "IlveIaxLob8J"
      },
      "execution_count": null,
      "outputs": []
    },
    {
      "cell_type": "code",
      "source": [
        "#원형 차트\n",
        "import matplotlib.pyplot as plt\n",
        "rat=[55, 15, 14, 16]\n",
        "insect=['butterflies', 'dragonflies', 'spiders', 'bees']\n",
        "plt.pie(rat, labels=insect, autopct='%.2f%%')\n",
        "plt.show()"
      ],
      "metadata": {
        "id": "g4UwMHEbo1fU"
      },
      "execution_count": null,
      "outputs": []
    },
    {
      "cell_type": "code",
      "source": [
        "#회귀 - 다중공선성 평가\n",
        "import pandas as pd\n",
        "from statsmodels.stats.outliers_influence import variance_inflation_factor\n",
        "from statsmodels.tools.tools import add_constant\n",
        "\n",
        "# 가정: df는 pandas DataFrame이며, 독립 변수들만 포함하고 있다.\n",
        "# VIF 계산을 위해 상수항을 추가합니다. 이는 VIF 계산 시 필요합니다.\n",
        "df_with_constant = add_constant(df)\n",
        "\n",
        "# VIF 값을 저장할 빈 리스트를 생성합니다.\n",
        "vif_data = []\n",
        "\n",
        "# 각 변수에 대해 VIF 값을 계산하고, 결과를 vif_data 리스트에 추가합니다.\n",
        "for i in range(len(df_with_constant.columns)):\n",
        "    vif = variance_inflation_factor(df_with_constant.values, i)\n",
        "    vif_data.append({\n",
        "        'Variable': df_with_constant.columns[i],\n",
        "        'VIF': vif\n",
        "    })\n",
        "\n",
        "# VIF 데이터를 DataFrame으로 변환하여 출력합니다.\n",
        "vif_df = pd.DataFrame(vif_data)\n",
        "print(vif_df)\n"
      ],
      "metadata": {
        "id": "Z6htvxPfBXdr"
      },
      "execution_count": null,
      "outputs": []
    },
    {
      "cell_type": "code",
      "source": [
        "X,Y가 있을때\n",
        "X_const = add_constant(X)\n",
        "\n",
        "# VIF 데이터 프레임 초기화\n",
        "vif_data = pd.DataFrame()\n",
        "vif_data[\"Feature\"] = X_const.columns\n",
        "vif_data[\"VIF\"] = [variance_inflation_factor(X_const.values, i) for i in range(X_const.shape[1])]\n",
        "\n",
        "# VIF 값 출력\n",
        "print(vif_data)\n"
      ],
      "metadata": {
        "id": "VQ8si1DwFT2M"
      },
      "execution_count": null,
      "outputs": []
    },
    {
      "cell_type": "code",
      "source": [
        "#상관관계 분석\n",
        "correlation_matrix = df.corr()"
      ],
      "metadata": {
        "id": "a_eTNR2kJh5I"
      },
      "execution_count": null,
      "outputs": []
    },
    {
      "cell_type": "code",
      "source": [
        "# 다변량 분석 - 히트맵\n",
        "plt.figure(figsize=(10, 8))\n",
        "sns.heatmap(correlation_matrix, annot=True, fmt=\".2f\", cmap=\"coolwarm\")\n",
        "plt.title(\"Correlation heatmap between variables\")\n",
        "plt.show()"
      ],
      "metadata": {
        "id": "qUO7s4EBJ4hJ"
      },
      "execution_count": null,
      "outputs": []
    },
    {
      "cell_type": "markdown",
      "source": [
        "히트맵, 박스플롯 스캐터 플롯 페어 플롯?"
      ],
      "metadata": {
        "id": "3G1DWldyljQ1"
      }
    },
    {
      "cell_type": "markdown",
      "source": [
        "원핫 인코딩, 라벨 인코딩, 순서형 인코딩(범주의 순서 고려), 더미 인코딩"
      ],
      "metadata": {
        "id": "RgDSXI0CnMu9"
      }
    },
    {
      "cell_type": "code",
      "source": [],
      "metadata": {
        "id": "2EXwALlGliyX"
      },
      "execution_count": null,
      "outputs": []
    },
    {
      "cell_type": "markdown",
      "source": [
        "폴리엄"
      ],
      "metadata": {
        "id": "QcJ0UIrfSZ2O"
      }
    },
    {
      "cell_type": "code",
      "source": [
        "# 폴리엄\n",
        "import folium\n",
        "from google.colab.output import eval_js\n",
        "eval_js('google.colab.output.setIframeHeight(\"100\")')\n",
        "# 서울시청 지도 좌표인 위도 37.5662952, 경도 126.9779451인 지점을 location에 추가\n",
        "foliumMap=folium.Map(location=[37.5662952, 126.9779451],width=750,height=500, zoom_start=16)\n",
        "# 지도에서 마커를 표시할 위치를 location 옵션에 위도와 경도로 추가\n",
        "folium.Marker(location=[37.5662952, 126.9779451]).add_to(foliumMap)\n",
        "popup=folium.Popup('서울시청위치.', max_width=300)\n",
        "folium.Marker(location=[37.5662952, 126.9779451], popup=popup).add_to(foliumMap)\n",
        "foliumMap.save('./foliumMap.html')\n",
        "from google.colab.output import eval_js\n",
        "eval_js('google.colab.output.setIframeHeight(\"500\")')\n",
        "foliumMap"
      ],
      "metadata": {
        "id": "t8hQtzd3Sb-4"
      },
      "execution_count": null,
      "outputs": []
    },
    {
      "cell_type": "code",
      "source": [
        "#분류\n",
        "X_train, X_test, y_train, y_test = train_test_split(cancer.data, cancer.target, test_size=0.2, random_state=4301)"
      ],
      "metadata": {
        "id": "foh_NPPam1pG"
      },
      "execution_count": null,
      "outputs": []
    },
    {
      "cell_type": "code",
      "source": [
        "# PyTorch 텐서로 변환\n",
        "X_train_tensor = torch.tensor(X_train, dtype=torch.float32)\n",
        "X_test_tensor = torch.tensor(X_test, dtype=torch.float32)\n",
        "y_train_tensor = torch.tensor(y_train, dtype=torch.long)\n",
        "y_test_tensor = torch.tensor(y_test, dtype=torch.long)"
      ],
      "metadata": {
        "id": "JeyGr84HVwwf"
      },
      "execution_count": null,
      "outputs": []
    },
    {
      "cell_type": "code",
      "source": [
        "# DataLoader 생성\n",
        "train_dataset = TensorDataset(X_train_tensor, y_train_tensor)\n",
        "test_dataset = TensorDataset(X_test_tensor, y_test_tensor)\n",
        "\n",
        "train_loader = DataLoader(dataset=train_dataset, batch_size=16, shuffle=True)\n",
        "# train_loader : 데이터셋을 배치 크기인 16으로 나누고, 각 에포크 시작 시 데이터를 셔플\n",
        "# inputs는 모델의 입력 데이터를 담고 있고, labels는 해당 데이터의 정답 레이블\n",
        "\n",
        "test_loader = DataLoader(dataset=test_dataset, batch_size=16, shuffle=False)"
      ],
      "metadata": {
        "id": "mEX5hZDfVyjm"
      },
      "execution_count": null,
      "outputs": []
    },
    {
      "cell_type": "markdown",
      "source": [
        "### 스케일러 5개\n",
        "MinMax MaxAbs Robust Standard Normalizer"
      ],
      "metadata": {
        "id": "nyZ-fc3cf1Y2"
      }
    },
    {
      "cell_type": "code",
      "source": [
        "Scaler=StandardScaler() # 평균 0 분산 1 - 최소 최대 모를 때\n",
        "Scaler=MinMaxScaler() # 최소최대를 알 때. 0~1\n",
        "Scaler=MaxAbsScaler() # -1~1\n",
        "Scaler=RobustScaler() # 이상치 영향 최소화 중앙값 0, IQE=1\n",
        "Scaler=Normalizer() #행마다 정규화 - 유클리드 거리 1\n",
        "\n",
        "X_train_scaled=Scaler.fit_transform(X_train)\n",
        "X_test_scaled=Scaler.transform(X_test)"
      ],
      "metadata": {
        "id": "wOtE-OZdgQSV"
      },
      "execution_count": null,
      "outputs": []
    },
    {
      "cell_type": "markdown",
      "source": [
        "지도학습 - 분류"
      ],
      "metadata": {
        "id": "McRXYTVEojHl"
      }
    },
    {
      "cell_type": "code",
      "source": [
        "# k-NN 분류기 생성 (k=3)\n",
        "knn = KNeighborsClassifier(n_neighbors=3)"
      ],
      "metadata": {
        "id": "oDDc0AJBijve"
      },
      "execution_count": null,
      "outputs": []
    },
    {
      "cell_type": "code",
      "source": [
        "# 결정트리(DT) 정수형 아니어도 괜찮.\n",
        "model = DecisionTreeClassifier(random_state=42)"
      ],
      "metadata": {
        "id": "dy199uCTo08e"
      },
      "execution_count": null,
      "outputs": []
    },
    {
      "cell_type": "code",
      "source": [
        "# 랜덤포레스트분류\n",
        "model = RandomForestClassifier(n_estimators=100, random_state=42) # 100 trees in the forest"
      ],
      "metadata": {
        "id": "DBwWiE1ejTta"
      },
      "execution_count": null,
      "outputs": []
    },
    {
      "cell_type": "code",
      "source": [
        "# LogisticRegression 로지스틱 회귀\n",
        "model = LogisticRegression(solver='liblinear')"
      ],
      "metadata": {
        "id": "OrI-bgoSx_Iu"
      },
      "execution_count": null,
      "outputs": []
    },
    {
      "cell_type": "code",
      "source": [
        "#SVM\n",
        "model = SVC(kernel='linear', C=1.0, random_state=1)"
      ],
      "metadata": {
        "id": "oVglSxaqiLGN"
      },
      "execution_count": null,
      "outputs": []
    },
    {
      "cell_type": "markdown",
      "source": [
        "지도학습 - 추정"
      ],
      "metadata": {
        "id": "21iOJXNgsEfb"
      }
    },
    {
      "cell_type": "code",
      "source": [
        "#선형회귀\n",
        "model = LinearRegression()"
      ],
      "metadata": {
        "id": "mm0O7vlakT1_"
      },
      "execution_count": null,
      "outputs": []
    },
    {
      "cell_type": "code",
      "source": [
        "#결정트리회귀\n",
        "model = DecisionTreeRegressor(max_depth=3, random_state=1)"
      ],
      "metadata": {
        "id": "_lywiHdckHQh"
      },
      "execution_count": null,
      "outputs": []
    },
    {
      "cell_type": "code",
      "source": [
        "#랜덤 포레스트 회귀\n",
        "model = RandomForestRegressor(n_estimators=100, random_state=42)"
      ],
      "metadata": {
        "id": "ZPWLRDzQwBsv"
      },
      "execution_count": null,
      "outputs": []
    },
    {
      "cell_type": "code",
      "source": [
        "#SVR\n",
        "model = SVR(kernel='linear')"
      ],
      "metadata": {
        "id": "dT_61DE-wYwb"
      },
      "execution_count": null,
      "outputs": []
    },
    {
      "cell_type": "code",
      "source": [
        "# 모델 훈련\n",
        "model.fit(X_train, y_train)\n",
        "# 테스트 데이터에 대한 예측\n",
        "predictions = model.predict(X_test)\n",
        "\n",
        "# 성능 평가\n",
        "accuracy=accuracy_score(y_test, predictions)"
      ],
      "metadata": {
        "id": "rTH01AoBpEN6"
      },
      "execution_count": null,
      "outputs": []
    },
    {
      "cell_type": "code",
      "source": [
        "#최적의 클러스터수 찾는 법\n",
        "inertia = []\n",
        "for n_clusters in range(1,11):\n",
        "    kmeans = KMeans(n_clusters=n_clusters, init='k-means++', max_iter=300, n_init=10, random_state=432)\n",
        "    kmeans.fit(X)\n",
        "    inertia.append(kmeans.inertia_)"
      ],
      "metadata": {
        "id": "18R_wdzwma3I"
      },
      "execution_count": null,
      "outputs": []
    },
    {
      "cell_type": "code",
      "source": [
        "#트리 그리기\n",
        "plt.figure(figsize=(20,10))\n",
        "plot_tree(clf, filled=True, feature_names=iris.feature_names, class_names=iris.target_names)\n",
        "plt.show()"
      ],
      "metadata": {
        "id": "1nUFv5Wdjve9"
      },
      "execution_count": null,
      "outputs": []
    },
    {
      "cell_type": "code",
      "source": [
        "# KMeans 클러스터링 실행\n",
        "kmeans = KMeans(n_clusters=3, init='k-means++', max_iter=300, n_init=10, random_state=42)\n",
        "y_kmeans = kmeans.fit_predict(X)"
      ],
      "metadata": {
        "id": "4zgduZRmm9-f"
      },
      "execution_count": null,
      "outputs": []
    },
    {
      "cell_type": "code",
      "source": [
        "#실루엣 계수 계산\n",
        "silhouette_avg = silhouette_score(X, y_kmeans)"
      ],
      "metadata": {
        "id": "7j_KUExJn96e"
      },
      "execution_count": null,
      "outputs": []
    },
    {
      "cell_type": "code",
      "source": [
        "# 클러스터링 결과 활용: 각 데이터 포인트에 클러스터 번호 할당\n",
        "iris_with_clusters = np.column_stack((iris.data, y_kmeans))"
      ],
      "metadata": {
        "id": "X9Y78s2roDjE"
      },
      "execution_count": null,
      "outputs": []
    },
    {
      "cell_type": "code",
      "source": [
        "\n",
        "# 클러스터링 결과 시각화\n",
        "plt.figure(figsize=(12, 6))\n",
        "colors = np.array(['red', 'green', 'blue'])\n",
        "plt.scatter(X[:, 0], X[:, 1], c=colors[y_kmeans], s=50, cmap='viridis')\n",
        "\n",
        "# 클러스터 중심 표시\n",
        "centers = kmeans.cluster_centers_\n",
        "plt.scatter(centers[:, 0], centers[:, 1], c='black', s=200, alpha=0.5)\n",
        "plt.title('KMeans Clustering on Iris Dataset')\n",
        "plt.xlabel('Sepal length')\n",
        "plt.ylabel('Sepal width')\n",
        "plt.show()\n"
      ],
      "metadata": {
        "id": "PdJ_XPrToD7F"
      },
      "execution_count": null,
      "outputs": []
    },
    {
      "cell_type": "code",
      "source": [
        "fig = plt.figure(figsize=(9,7))\n",
        "ax = fig.add_subplot(111, projection='3d') #몇 곱 몇 그리드, 첫행 첫 서브플\n",
        "\n",
        "for i in range(kmeans.n_clusters):\n",
        "    cluster_members = kmeans.labels_==i\n",
        "    ax.scatter(data_normalized[cluster_members, 0], data_normalized[cluster_members, 1], data_normalized[cluster_members,2 ],\n",
        "                label=f'Cluster {i+1}',s=100) #s: 점 크기\n",
        "\n",
        "ax.set_title('3D Clustering of Individuals by Age, Height, and Weight')\n",
        "ax.set_xlabel('Normalized Age')\n",
        "ax.set_ylabel('Normalized Height')\n",
        "ax.set_zlabel('Normalized Weight')\n",
        "plt.legend()\n",
        "plt.show()"
      ],
      "metadata": {
        "id": "oFOpoV12DzHG"
      },
      "execution_count": null,
      "outputs": []
    },
    {
      "cell_type": "code",
      "source": [
        "\n",
        "kmeans = KMeans(n_clusters=4, random_state=42).fit(data_normalized[:, :3])\n",
        "\n",
        "\n",
        "fig = plt.figure(figsize=(10,8))\n",
        "ax = fig.add_subplot(111, projection='3d')\n",
        "\n",
        "men = data[:, 3]==0 #0이면 true, 아니면 false로 전체 데이터에 삽입.\n",
        "women = data[:, 3]==1\n",
        "\n",
        "ax.scatter(data_normalized[men,0],data_normalized[men,1],data_normalized[men,2],\n",
        "           c='blue',label='Men',s=100)\n",
        "ax.scatter(data_normalized[women,0],data_normalized[women,1],data_normalized[women,2],\n",
        "           c='magenta',label='Women',s=100)\n",
        "\n",
        "ax.set_title('3D Clustering of Individuals by Age, Height, and Weight')\n",
        "ax.set_xlabel('Normalized Age')\n",
        "ax.set_ylabel('Normalized Height')\n",
        "ax.set_zlabel('Normalized Weight')\n",
        "plt.legend()\n",
        "plt.show()"
      ],
      "metadata": {
        "id": "vD4cf3M8E2CL"
      },
      "execution_count": null,
      "outputs": []
    },
    {
      "cell_type": "code",
      "source": [
        "from sklearn.preprocessing import LabelEncoder\n",
        "\n",
        "# 타겟 변수 인코딩 차례대로 0,1,2순.\n",
        "le = LabelEncoder()\n",
        "data['attrition'] = le.fit_transform(data['attrition'])"
      ],
      "metadata": {
        "id": "SGrqPf7CFNqi"
      },
      "execution_count": null,
      "outputs": []
    },
    {
      "cell_type": "code",
      "source": [
        "# 수치형 변수만 선택 ... 간단한 진행을 위해\n",
        "numeric_features = data.select_dtypes(include=['int64', 'float64']).columns\n",
        "X_train = X_train.dropna(subset=['Embarked']) # 누락된 값이 있는 열 제거\n",
        "del X['Unnamed: 0'] # 0은 필요 없음.\n",
        "del X['attrition'] # 0은 필요 없음."
      ],
      "metadata": {
        "id": "tss7no8jFiBn"
      },
      "execution_count": null,
      "outputs": []
    },
    {
      "cell_type": "code",
      "source": [
        "#앙상블\n",
        "bagging_clf_KNN = BaggingClassifier(\n",
        "    base_estimator=KNeighborsClassifier(n_neighbors=19),\n",
        "    n_estimators=100,\n",
        "    random_state=42\n",
        ")"
      ],
      "metadata": {
        "id": "Fi1hSn0CFo2i"
      },
      "execution_count": null,
      "outputs": []
    },
    {
      "cell_type": "markdown",
      "source": [
        "트리 모델들은 스케일링 영향 x\n",
        "데이터 스케일링 장점\n",
        "1. 학습 효율성 증가\n",
        "2. 모델 성능 향상(KNN,SVM)\n",
        "3. 이상치 강인성 증가\n",
        "4. 특성간 동일하게 비교\n",
        "\n",
        "스케일링 단점\n",
        "1. 원본 구조 변경(이상치 등 왜곡)\n",
        "2. 이상치 민감성\n",
        "3. 정보손실(상대적 거리나 구조 단순화)\n",
        "4. 모델 해석 어려움(원본 스케일)\n",
        "5.\n"
      ],
      "metadata": {
        "id": "F4wfUBrsvb4K"
      }
    },
    {
      "cell_type": "markdown",
      "source": [
        "Max>MinMax  Robust/Standard > Normalizer"
      ],
      "metadata": {
        "id": "iL65U-3SSBAv"
      }
    },
    {
      "cell_type": "code",
      "source": [
        "# 그라디언트 부스팅 모델 생성\n",
        "gb_clf = GradientBoostingClassifier(n_estimators=100, learning_rate=0.7, max_depth=5, random_state=42)"
      ],
      "metadata": {
        "id": "qtUhIpCTxDHV"
      },
      "execution_count": null,
      "outputs": []
    },
    {
      "cell_type": "code",
      "source": [
        "# K-fold 교차 검증 수행 (5회)\n",
        "scores = cross_val_score(gb_clf, X, y, cv=5)\n",
        "# 데이터 세트를 k개의 부분집합(fold)으로 나눔. 무작위\n",
        "# k번의 반복 학습과 평가를 수행\n",
        "# 각 반복에서 k개의 부분집합 중 하나를 테스트 세트로, 나머지 k-1개의 부분집합을 합쳐 학습 세트로 사용\n",
        "# k번의 평가 결과를 평균내어 모델의 성능을 추정\n",
        "\n",
        "# 평가 점수 출력\n",
        "print(\"교차 검증 점수:\", scores)\n",
        "print(\"평균 점수:\", scores.mean())"
      ],
      "metadata": {
        "id": "no5htUslxHmd"
      },
      "execution_count": null,
      "outputs": []
    },
    {
      "cell_type": "code",
      "source": [
        "#f1점수\n",
        "f1_scores = cross_val_score(gb_clf, X, y, cv=5, scoring='f1_macro')\n",
        "\n",
        "# 평가 점수 출력\n",
        "print(\"F1 점수 교차 검증:\", f1_scores)\n",
        "print(\"평균 F1 점수:\", f1_scores.mean())"
      ],
      "metadata": {
        "id": "hLA8SGBVxRAD"
      },
      "execution_count": null,
      "outputs": []
    },
    {
      "cell_type": "code",
      "source": [
        "# ROC 곡선 및 AUC 계산\n",
        "fpr, tpr, thresholds = roc_curve(y_test, y_score)\n",
        "roc_auc = auc(fpr, tpr)\n",
        "\n",
        "# ROC 곡선 시각화\n",
        "plt.figure()\n",
        "plt.plot(fpr, tpr, color='darkorange', lw=2, label='ROC curve (area = %0.2f)' % roc_auc)\n",
        "plt.plot([0, 1], [0, 1], color='navy', lw=2, linestyle='--')\n",
        "plt.xlim([0.0, 1.0])\n",
        "plt.ylim([0.0, 1.05]) #1이면 안보이기 때문\n",
        "plt.xlabel('False Positive Rate')\n",
        "plt.ylabel('True Positive Rate')\n",
        "plt.title('Receiver Operating Characteristic')\n",
        "plt.legend(loc=\"lower right\")\n",
        "plt.show()"
      ],
      "metadata": {
        "id": "dJI5AdogxWTx"
      },
      "execution_count": null,
      "outputs": []
    },
    {
      "cell_type": "code",
      "source": [
        "#스태킹\n",
        "import numpy as np\n",
        "\n",
        "# 기본 모델의 예측을 새로운 특성으로 사용\n",
        "X_meta = np.column_stack((pred1, pred2))\n",
        "# X_meta\n",
        "from sklearn.ensemble import RandomForestClassifier\n",
        "\n",
        "# 메타 모델 생성\n",
        "meta_model = RandomForestClassifier(n_estimators=100, random_state=42)\n",
        "\n",
        "# 메타 모델 훈련\n",
        "meta_model.fit(X_meta, y_train)\n",
        "\n",
        "# 테스트 데이터에 대한 기본 모델의 예측\n",
        "pred1_test = model1.predict(X_test)\n",
        "pred2_test = model2.predict(X_test)\n",
        "\n",
        "# 테스트 데이터에 대한 메타 모델의 입력 생성\n",
        "X_meta_test = np.column_stack((pred1_test, pred2_test))\n",
        "\n",
        "# 메타 모델을 사용한 최종 예측\n",
        "final_predictions = meta_model.predict(X_meta_test)\n",
        "\n",
        "# 성능 평가\n",
        "print(\"최종 모델의 정확도:\", accuracy_score(y_test, final_predictions))"
      ],
      "metadata": {
        "id": "IDD5TvYVYV7_"
      },
      "execution_count": null,
      "outputs": []
    },
    {
      "cell_type": "code",
      "source": [
        "#XGBoost\n",
        "model = xgb.XGBClassifier(n_estimators=100, learning_rate=1.0, max_depth=3, use_label_encoder=False, eval_metric='mlogloss')\n"
      ],
      "metadata": {
        "id": "3wDeGDTe6viV"
      },
      "execution_count": null,
      "outputs": []
    },
    {
      "cell_type": "code",
      "source": [
        "#소프트맥스\n",
        "import numpy as np\n",
        "\n",
        "def softmax(x):\n",
        "    \"\"\"Compute the softmax of vector x.\n",
        "    exp_x = np.exp(x - np.max(x))\n",
        "    return exp_x / exp_x.sum()\n",
        "\n",
        "# Example vector: 신경망의 출력층에서 출력된 점수\n",
        "logits = np.array([2.0, 1.0, 0.1])\n",
        "\n",
        "# softmax 함수 적용 to the logits(데이터가 특정 클래스에 속할 것으로 예측한 점수 값)\n",
        "softmax_output = softmax(logits)"
      ],
      "metadata": {
        "id": "tDprVnZIQEgc"
      },
      "execution_count": null,
      "outputs": []
    },
    {
      "cell_type": "markdown",
      "metadata": {
        "id": "QRgRKlQzQn3U"
      },
      "source": [
        "ReLU 함수 : 입력값이 0보다 클 때는 해당 입력값을 그대로 출력, 0 이하일 때는 0을 출력\n",
        "이러한 특성으로 간단하면서도 효율적으로 신경망에서 비선형성을 도입"
      ]
    },
    {
      "cell_type": "code",
      "execution_count": null,
      "metadata": {
        "id": "chDVjUiVQn3X"
      },
      "outputs": [],
      "source": [
        "# ReLU\n",
        "\n",
        "import numpy as np\n",
        "import matplotlib.pyplot as plt\n",
        "\n",
        "# 함수 정의\n",
        "def relu(x):\n",
        "    return np.maximum(0, x)\n",
        "\n",
        "# 예시 데이터 생성\n",
        "x = np.linspace(-10, 10, 100)\n",
        "y = relu(x)\n",
        "\n",
        "# 활성화 함수의 결과를 시각화\n",
        "plt.plot(x, y)\n",
        "plt.title(\"ReLU Activation Function\")\n",
        "plt.xlabel(\"Input\")\n",
        "plt.ylabel(\"Output\")\n",
        "plt.grid(True)\n",
        "plt.show()\n"
      ]
    },
    {
      "cell_type": "markdown",
      "metadata": {
        "id": "xewnzpvHQn3Y"
      },
      "source": [
        "시그모이드 함수 : 입력값을 0과 1 사이의 값으로 압축합\n",
        "주로 이진 분류 문제에서 출력층의 활성화 함수로 사용\n",
        "but 입력값의 절대값이 클 때 기울기가 매우 작아져서 그라디언트 소실 문제 발생 문제 있음"
      ]
    },
    {
      "cell_type": "code",
      "execution_count": null,
      "metadata": {
        "id": "AR_NmNL-Qn3Z"
      },
      "outputs": [],
      "source": [
        "# 시그모이드\n",
        "\n",
        "import numpy as np\n",
        "import matplotlib.pyplot as plt\n",
        "\n",
        "# 함수 정의\n",
        "def sigmoid(x):\n",
        "    return 1 / (1 + np.exp(-x))\n",
        "\n",
        "# 예시 데이터 생성\n",
        "x = np.linspace(-10, 10, 100)\n",
        "\n",
        "# 예시 데이터에 대해 시그모이드와 탄젠트 함수 적용\n",
        "y_sigmoid = sigmoid(x)\n",
        "\n",
        "\n",
        "# 활성화 함수의 결과 시각화\n",
        "plt.figure(figsize=(14, 6))\n",
        "\n",
        "# 시그모이드 함수 그래프\n",
        "plt.subplot(1, 2, 1)\n",
        "plt.plot(x, y_sigmoid, label='Sigmoid')\n",
        "plt.title(\"Sigmoid Activation Function\")\n",
        "plt.xlabel(\"Input\")\n",
        "plt.ylabel(\"Output\")\n",
        "plt.grid(True)\n",
        "plt.legend()\n",
        "\n",
        "\n",
        "plt.tight_layout()\n",
        "plt.show()"
      ]
    },
    {
      "cell_type": "markdown",
      "metadata": {
        "id": "myqU8pYHQn3Z"
      },
      "source": [
        "tanh : 출력 범위 -1에서 1 사이, 시그모이드 함수보다 출력 범위가 넓음.\n",
        "\n",
        "> 들여쓴 블록\n",
        "\n",
        "\n",
        "이 때문에 평균이 0에 가까워지는 효과가 있어 학습 초기 단계에서 더 빠른 수렴 가능"
      ]
    },
    {
      "cell_type": "code",
      "execution_count": null,
      "metadata": {
        "id": "pWG2PMPaQn3a"
      },
      "outputs": [],
      "source": [
        "# 탄젠트\n",
        "\n",
        "import numpy as np\n",
        "import matplotlib.pyplot as plt\n",
        "\n",
        "# 함수 정의\n",
        "def tanh(x):\n",
        "    return np.tanh(x)\n",
        "\n",
        "# 예시 데이터 생성\n",
        "x = np.linspace(-10, 10, 100)\n",
        "\n",
        "y_tanh = tanh(x)\n",
        "\n",
        "# 활성화 함수의 결과 시각화\n",
        "plt.figure(figsize=(14, 6))\n",
        "\n",
        "# 탄젠트 함수 그래프\n",
        "plt.subplot(1, 2, 2)\n",
        "plt.plot(x, y_tanh, label='Tanh')\n",
        "plt.title(\"Tanh Activation Function\")\n",
        "plt.xlabel(\"Input\")\n",
        "plt.ylabel(\"Output\")\n",
        "plt.grid(True)\n",
        "plt.legend()\n",
        "\n",
        "plt.tight_layout()\n",
        "plt.show()\n"
      ]
    },
    {
      "cell_type": "code",
      "source": [
        "# 한글 깨짐\n",
        "!pip install konlpy\n",
        "!apt-get update -qq\n",
        "plt.rc('font', family='NanumBarunGothic') #\n",
        "\n",
        "#폰트 리스트 확인\n",
        "import matplotlib.font_manager as fm\n",
        "sys_font = fm.findSystemFonts()\n",
        "\n",
        "[f for f in sys_font if 'Nanum' in f]\n",
        "filtered_data = ts_data[ts_data.index > '2015-01-01']"
      ],
      "metadata": {
        "id": "SnIeEkov2fQi"
      },
      "execution_count": null,
      "outputs": []
    },
    {
      "cell_type": "code",
      "source": [
        "# 'Price' 컬럼을 수치형으로 변환\n",
        "df['Price'] = pd.to_numeric(df['Price'].str.replace('[^\\d.]', ''), errors='coerce')"
      ],
      "metadata": {
        "id": "gkAzcWa6E6MV"
      },
      "execution_count": null,
      "outputs": []
    },
    {
      "cell_type": "code",
      "source": [
        "# 'Pdate' 컬럼을 날짜 타입으로 변환 (한국어 날짜 형식에 맞춤)\n",
        "df['Pdate'] = pd.to_datetime(df['Pdate'], format='%Y년 %m월 %d일', errors='coerce')"
      ],
      "metadata": {
        "id": "R9HbSrGZFKeg"
      },
      "execution_count": null,
      "outputs": []
    }
  ]
}